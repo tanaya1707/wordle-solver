{
  "cells": [
    {
      "cell_type": "code",
      "execution_count": null,
      "metadata": {
        "id": "c31Z7ZimJhls"
      },
      "outputs": [],
      "source": [
        "from collections import Counter\n",
        "import numpy as np"
      ]
    },
    {
      "cell_type": "code",
      "execution_count": null,
      "metadata": {
        "id": "WwzHgT6Ll0Wl"
      },
      "outputs": [],
      "source": [
        "#Makes a dictionary where the values are the letters in the word and the keys are the place at which the letter occurs\n",
        "def dictionary(word):\n",
        "  dict= {1: word[0], 2: word[1], 3: word[2], 4: word[3], 5: word[4]}\n",
        "  return dict"
      ]
    },
    {
      "cell_type": "code",
      "execution_count": null,
      "metadata": {
        "id": "vlQZG-gUKTke"
      },
      "outputs": [],
      "source": [
        "#Extract common letters between guess and word and correct places for letters if any. Also find the letters not resent in the word (i.e. the yellow, green and black letters in wordle).\n",
        "def solver(guess_dict):\n",
        "  global s\n",
        "  for i in word_dict:\n",
        "    count= 0\n",
        "    for j in guess_dict:\n",
        "      if word_dict[i] == guess_dict[j]:\n",
        "        if i == j:\n",
        "          place[i-1]= guess_dict[j]\n",
        "        else:\n",
        "          letter.append(guess_dict[j])\n",
        "\n",
        "  flag= 0\n",
        "  for i in guess_dict:\n",
        "    for j in word_dict:\n",
        "      if word_dict[j] == guess_dict[i]:\n",
        "        flag= 1\n",
        "    if flag != 1:\n",
        "      letter_remove.append(guess_dict[i])\n",
        "    flag= 0\n",
        "\n",
        "  #Remove repeating letters from the lists\n",
        "  for i in letter:\n",
        "    if (i not in letter_new) and (i not in place):\n",
        "      letter_new.append(i)\n",
        "      for j in guess_dict:\n",
        "        if i == guess_dict[j]:\n",
        "          not_place[s]= j-1\n",
        "          s= s+1\n",
        "          print(i)\n",
        "  if (i in letter_new) and (i in place):\n",
        "    letter_new.remove(i)\n",
        "  for i in letter_remove:\n",
        "    if (i not in letter_remove_new):\n",
        "      letter_remove_new.append(i)\n",
        "\n",
        "  \n",
        "  print(place, letter_new, letter_remove_new)"
      ]
    },
    {
      "cell_type": "code",
      "execution_count": null,
      "metadata": {
        "id": "AiID6JK5gpAN"
      },
      "outputs": [],
      "source": [
        "#Extract possible 5 letter words and all letters from text files\n",
        "def get_words():\n",
        "\n",
        "    word_file = open(\"words.txt\",\"r\")\n",
        "    consonants_file = open(\"letters.txt\",\"r\")\n",
        "    a = word_file.readlines()\n",
        "    b = consonants_file.readlines()\n",
        "    \n",
        "    for i in a:\n",
        "      list_words.append(i[:5])\n",
        "\n",
        "    for i in b:\n",
        "      consonants.append(i[:1])\n",
        "\n",
        "    return(list_words, consonants)"
      ]
    },
    {
      "cell_type": "code",
      "execution_count": null,
      "metadata": {
        "id": "qBDt98WsHBOY"
      },
      "outputs": [],
      "source": [
        "#Remove words already guessed from the list\n",
        "def remove_words(list_words):\n",
        "  global no\n",
        "  global index\n",
        "  index= []\n",
        "  no= 0\n",
        "  count= 0\n",
        "  flag = 0\n",
        "  p= 0\n",
        "  for i in place:\n",
        "    if i != 0:\n",
        "      no = no + 1\n",
        "      index.append(count)\n",
        "    count = count + 1\n",
        "\n",
        "  list_words.remove(word_chosen)\n",
        "\n",
        "  return(list_words, no, index)"
      ]
    },
    {
      "cell_type": "code",
      "execution_count": null,
      "metadata": {
        "id": "_bfCW1k5OUA6"
      },
      "outputs": [],
      "source": [
        "#Decide next guess\n",
        "def next_word(place, letter):\n",
        "  global possibility\n",
        "  global r\n",
        "  possibility= []\n",
        "\n",
        "  #Append through the list of words\n",
        "  for i in list_words:\n",
        "    flag1= 0\n",
        "    flag2= 0\n",
        "    flag3= 0\n",
        "    flag4= 0\n",
        "    #Check if the word satisfies the condition for letters in the correct places (green letters). If yes, append to possibilites.\n",
        "    if ((any(place) == True) and (any(letter_new) == False)):\n",
        "      for j in index:\n",
        "        if i[j] == place[j]:\n",
        "          flag1= flag1 + 1\n",
        "        if flag1 == no:\n",
        "          possibility.append(i)\n",
        "    #Check if the word satisfies the condition for all the correct letters being present in the guess (yellow letters). If yes, append to possibilities.\n",
        "    elif ((any(letter_new) == True) and (any(place) == False)):\n",
        "      r= 0\n",
        "      for j in letter_new:\n",
        "        p= 0\n",
        "        for k in i:\n",
        "          if j == k:\n",
        "            flag1= flag1 + 1\n",
        "      if flag1 >= len(letter_new):\n",
        "        possibility.append(i)\n",
        "    #Check if the word satisfies both the conditions if both correct letters and places are present (yellow and green letters). If yes, append to possibilites.\n",
        "    elif ((any(letter_new) == True) and (any(place) == True)):\n",
        "      r= 0\n",
        "      for j in index:\n",
        "        if i[j] == place[j]:  \n",
        "          flag1= flag1 + 1\n",
        "        if flag1 == no:\n",
        "          flag3= 1   \n",
        "          flag1= 0\n",
        "          flag2= 0\n",
        "      for j in letter_new:\n",
        "        p= 0\n",
        "        for k in i:\n",
        "          if j == k:\n",
        "            flag1= flag1 + 1\n",
        "      if flag1 >= len(letter_new):\n",
        "        flag4= 1\n",
        "      if ((flag3 == 1) and (flag4 == 1)):\n",
        "        possibility.append(i)\n",
        "    else:\n",
        "      possibility.append(i)\n",
        "  return(possibility)"
      ]
    },
    {
      "cell_type": "code",
      "execution_count": null,
      "metadata": {
        "id": "r4zpunmj1iuO"
      },
      "outputs": [],
      "source": [
        "#Choose the best option out of all the possible words\n",
        "def choose_best(possibility, cost_dict, word_chosen):\n",
        "  t= 0\n",
        "  #Assign cost to words based on the letters they contain. Words containing letters occuring most frequently in the english language get lower costs. \n",
        "  for i in possibility:\n",
        "    for j in i:\n",
        "      #Words are penalized if they contain black letters\n",
        "      if (j in letter_remove_new) :\n",
        "        cost[t]= cost[t] + cost_dict[j] + 20\n",
        "      else:\n",
        "        cost[t]= cost[t] + cost_dict[j]\n",
        "\n",
        "    repeated_letters= []\n",
        "    WC = Counter(i)\n",
        "    k = -1\n",
        "\n",
        "    #Words are penalized if they have repeating letters\n",
        "    for b in WC.values():\n",
        "      k = k + 1\n",
        "      if( b > 1 ):\n",
        "        repeated_letters.append(b)\n",
        "    cost[t]= cost[t] + 10*len(repeated_letters)\n",
        "\n",
        "    #Words are penalized if the same letters appear in same places in muultiple guesses\n",
        "    l=0\n",
        "    counter= 0\n",
        "    for j in i:\n",
        "      if (j in letter_new) and (word_chosen[l] == j):\n",
        "        counter= counter + 1\n",
        "      l= l + 1\n",
        "    cost[t]= cost[t] + counter*10\n",
        "\n",
        "    t= t+1\n",
        "\n",
        "  print(cost)\n",
        "  cost1= cost.copy()\n",
        "  cost1.sort()\n",
        "  j= 0\n",
        "  for i in cost:\n",
        "    if i == cost1[0]:\n",
        "      index1= j\n",
        "    j= j+1\n",
        "  global new_word\n",
        "  new_word= possibility[index1]\n",
        "  return(new_word)"
      ]
    },
    {
      "cell_type": "code",
      "execution_count": null,
      "metadata": {
        "colab": {
          "base_uri": "https://localhost:8080/"
        },
        "id": "7CpIoQiEsq0b",
        "outputId": "d027b607-a173-4229-91f2-6a9ccb8a64e8"
      },
      "outputs": [
        {
          "name": "stdout",
          "output_type": "stream",
          "text": [
            "Enter word abyss\n"
          ]
        }
      ],
      "source": [
        "word= input('Enter word ')"
      ]
    },
    {
      "cell_type": "code",
      "execution_count": null,
      "metadata": {
        "colab": {
          "base_uri": "https://localhost:8080/"
        },
        "id": "aOg_6ut5s_Mc",
        "outputId": "d020f389-2aa5-4b8b-9de2-5484ee889413"
      },
      "outputs": [
        {
          "output_type": "stream",
          "name": "stdout",
          "text": [
            "#\n",
            "raise\n",
            "*\n",
            "a\n",
            "[0, 0, 0, 's', 0] ['a'] ['r', 'i', 'e']\n",
            "['abase', 'abuse', 'abyss', 'amass', 'amiss', 'amuse', 'angst', 'anise', 'antsy', 'arise', 'arose', 'artsy', 'awash', 'balsa', 'basso', 'bassy', 'beast', 'blase', 'blast', 'boast', 'brash', 'brass', 'bursa', 'cause', 'cease', 'chase', 'chasm', 'clash', 'clasp', 'class', 'coast', 'crash', 'crass', 'daisy', 'erase', 'fatso', 'feast', 'flash', 'flask', 'glass', 'grasp', 'grass', 'harsh', 'lease', 'least', 'pause', 'phase', 'toast', 'trash', 'waist', 'waist', 'yeast']\n",
            "[60, 59, 64, 54, 66, 56, 39, 62, 42, 78, 59, 58, 57, 58, 60, 74, 54, 57, 42, 38, 65, 68, 61, 62, 72, 56, 49, 44, 42, 47, 31, 58, 61, 75, 85, 49, 55, 52, 58, 53, 62, 67, 83, 71, 46, 65, 59, 37, 54, 70, 70, 56]\n",
            "coast\n",
            "*\n",
            "[0, 0, 0, 's', 0] ['a'] ['r', 'i', 'e', 'c', 'o', 't']\n",
            "['abase', 'abuse', 'abyss', 'amass', 'amiss', 'amuse', 'angst', 'anise', 'antsy', 'arise', 'arose', 'artsy', 'awash', 'balsa', 'basso', 'bassy', 'beast', 'blase', 'blast', 'boast', 'brash', 'brass', 'bursa', 'cause', 'cease', 'chase', 'chasm', 'clash', 'clasp', 'class', 'crash', 'crass', 'daisy', 'erase', 'fatso', 'feast', 'flash', 'flask', 'glass', 'grasp', 'grass', 'harsh', 'lease', 'least', 'pause', 'phase', 'toast', 'trash', 'waist', 'waist', 'yeast']\n",
            "[70, 59, 64, 64, 66, 56, 59, 62, 62, 78, 79, 78, 67, 48, 70, 64, 84, 67, 72, 88, 75, 78, 61, 72, 102, 86, 79, 74, 72, 77, 88, 91, 65, 95, 79, 85, 62, 68, 63, 72, 77, 73, 81, 76, 55, 69, 107, 84, 80, 80, 86]\n",
            "balsa\n",
            "*\n",
            "b\n",
            "[0, 0, 0, 's', 0] ['a', 'b'] ['r', 'i', 'e', 'c', 'o', 't', 'l']\n",
            "['abase', 'abuse', 'abyss', 'amass', 'awash', 'basso', 'bassy', 'beast', 'blase', 'blast', 'boast', 'brash', 'brass', 'bursa']\n",
            "[60, 59, 64, 54, 57, 90, 84, 84, 87, 92, 88, 75, 78, 81]\n",
            "amass\n",
            "*\n",
            "['a', 0, 0, 's', 's'] ['a', 'b'] ['r', 'i', 'e', 'c', 'o', 't', 'l', 'm']\n",
            "['abyss']\n",
            "[74]\n",
            "abyss\n"
          ]
        }
      ],
      "source": [
        "list_words = []\n",
        "consonants = []\n",
        "place= [0, 0, 0, 0, 0]\n",
        "letter= []\n",
        "letter_new= []\n",
        "letter_remove= []\n",
        "letter_remove_new= []\n",
        "not_place= {0:[], 1:[], 2:[], 3:[]}\n",
        "get_words()\n",
        "global s, r\n",
        "s= 0\n",
        "r= 0\n",
        "i= 0\n",
        "print('#')\n",
        "global word_chosen\n",
        "word_chosen= 'raise'\n",
        "print(word_chosen)\n",
        "while word_chosen != word :\n",
        "  print('*')\n",
        "  guess = word_chosen\n",
        "\n",
        "  guess_dict= dictionary(guess)\n",
        "  word_dict= dictionary(word)\n",
        "\n",
        "  solver(guess_dict)\n",
        "\n",
        "  remove_words(list_words)\n",
        "\n",
        "  next_word(place, letter_new)\n",
        "  print(possibility)\n",
        "\n",
        "  cost_dict= {'e':1, 'a':2, 'r':3, 'i':4, 'o':5, 't':6, 'n':7, 's':8, 'l':9, 'c':10 ,'u':11, 'd':12, 'p':13, 'm':14, 'h':15, 'g':16, 'b':17, 'f':18, 'y':19, 'w':20, 'k':21, 'v':22, 'x':23, 'z':24, 'j':25, 'q':26 }\n",
        "  cost= []\n",
        "  k= 0\n",
        "  while k < len(possibility):\n",
        "    cost.append(0)\n",
        "    k= k+1\n",
        "\n",
        "  choose_best(possibility, cost_dict, word_chosen)\n",
        "\n",
        "  i= i+1\n",
        "  word_chosen= new_word\n",
        "  print(word_chosen)\n",
        "\n"
      ]
    }
  ],
  "metadata": {
    "colab": {
      "collapsed_sections": [],
      "name": "wordle_solver.ipynb",
      "provenance": []
    },
    "kernelspec": {
      "display_name": "Python 3",
      "name": "python3"
    },
    "language_info": {
      "name": "python"
    }
  },
  "nbformat": 4,
  "nbformat_minor": 0
}